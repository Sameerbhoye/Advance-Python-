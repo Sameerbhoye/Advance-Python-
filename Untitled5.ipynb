{
  "nbformat": 4,
  "nbformat_minor": 0,
  "metadata": {
    "colab": {
      "provenance": [],
      "authorship_tag": "ABX9TyP6NPmnZAPsKcmivnVSRani",
      "include_colab_link": true
    },
    "kernelspec": {
      "name": "python3",
      "display_name": "Python 3"
    },
    "language_info": {
      "name": "python"
    }
  },
  "cells": [
    {
      "cell_type": "markdown",
      "metadata": {
        "id": "view-in-github",
        "colab_type": "text"
      },
      "source": [
        "<a href=\"https://colab.research.google.com/github/Sameerbhoye/Advance-Python-/blob/main/Untitled5.ipynb\" target=\"_parent\"><img src=\"https://colab.research.google.com/assets/colab-badge.svg\" alt=\"Open In Colab\"/></a>"
      ]
    },
    {
      "cell_type": "code",
      "execution_count": null,
      "metadata": {
        "id": "vOHEmO_7ETr-"
      },
      "outputs": [],
      "source": [
        "import csv\n",
        "\n",
        "# Writing to CSV\n",
        "with open(\"Student.csv\", \"w\", newline=\"\") as file:\n",
        "    writer = csv.writer(file)\n",
        "    writer.writerow([\"Name\", \"Age\"])\n",
        "    writer.writerow([\"Amit\", 30])\n",
        "    writer.writerow([\"Prathiksha\", 24])\n",
        "\n"
      ]
    },
    {
      "cell_type": "code",
      "source": [
        "# Reading from CSV\n",
        "with open(\"Student.csv\", \"r\") as file:\n",
        "    reader = csv.reader(file)\n",
        "    for row in reader:\n",
        "        print(row)"
      ],
      "metadata": {
        "colab": {
          "base_uri": "https://localhost:8080/"
        },
        "id": "Zugv72LTEVGN",
        "outputId": "b87f76f6-c564-4859-c201-e37898640b4e"
      },
      "execution_count": null,
      "outputs": [
        {
          "output_type": "stream",
          "name": "stdout",
          "text": [
            "['Name', 'Age']\n",
            "['Amit', '30']\n",
            "['Prathiksha', '24']\n"
          ]
        }
      ]
    },
    {
      "cell_type": "code",
      "source": [
        "# Reading from CSV\n",
        "with open(\"Student.csv\", \"r\") as file:\n",
        "  reader = csv.reader(file)\n",
        "  next(reader)  # Skip the header row\n",
        "  row = next(reader) # Get the second row\n",
        "row"
      ],
      "metadata": {
        "colab": {
          "base_uri": "https://localhost:8080/"
        },
        "id": "PQUtmbQnFX1j",
        "outputId": "3351832b-278d-4175-fc94-ce03182814a0"
      },
      "execution_count": null,
      "outputs": [
        {
          "output_type": "execute_result",
          "data": {
            "text/plain": [
              "['Amit', '30']"
            ]
          },
          "metadata": {},
          "execution_count": 9
        }
      ]
    },
    {
      "cell_type": "code",
      "source": [
        "import json\n",
        "\n",
        "# Writing JSON\n",
        "data = {\"name\": \"Prathamesh\", \"age\": 20}\n",
        "with open(\"data.json\", \"w\") as file:\n",
        "    json.dump(data, file)\n",
        "\n",
        "# Reading JSON\n",
        "with open(\"data.json\", \"r\") as file:\n",
        "    loaded = json.load(file)\n",
        "    print(loaded)"
      ],
      "metadata": {
        "colab": {
          "base_uri": "https://localhost:8080/"
        },
        "id": "c23yXW4CFz43",
        "outputId": "0f09e404-4577-420a-ad52-532de10729f6"
      },
      "execution_count": null,
      "outputs": [
        {
          "output_type": "stream",
          "name": "stdout",
          "text": [
            "{'name': 'Prathamesh', 'age': 20}\n"
          ]
        }
      ]
    },
    {
      "cell_type": "markdown",
      "source": [],
      "metadata": {
        "id": "9te4QD_mFOxF"
      }
    },
    {
      "cell_type": "code",
      "source": [
        "with open(\"data.json\", \"r\") as file:\n",
        "    loaded = json.load(file)\n",
        "    print(loaded[\"name\"])"
      ],
      "metadata": {
        "colab": {
          "base_uri": "https://localhost:8080/"
        },
        "id": "bpgI0AePGKXb",
        "outputId": "9ffa3c86-e266-48f7-dc76-179252594b5a"
      },
      "execution_count": null,
      "outputs": [
        {
          "output_type": "stream",
          "name": "stdout",
          "text": [
            "Prathamesh\n"
          ]
        }
      ]
    },
    {
      "cell_type": "code",
      "source": [],
      "metadata": {
        "id": "4dq4wS2nGzWj"
      },
      "execution_count": null,
      "outputs": []
    }
  ]
}